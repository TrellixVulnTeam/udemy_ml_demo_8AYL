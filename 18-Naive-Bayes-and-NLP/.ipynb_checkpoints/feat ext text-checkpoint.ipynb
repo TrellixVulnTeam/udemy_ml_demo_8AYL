{
 "cells": [
  {
   "cell_type": "code",
   "execution_count": 13,
   "id": "c001d2d1",
   "metadata": {},
   "outputs": [],
   "source": [
    "with open('One.txt')as mytext:\n",
    "    words_one = mytext.read().lower().split()\n",
    "    uni_words_one = set(words_one)"
   ]
  },
  {
   "cell_type": "code",
   "execution_count": 14,
   "id": "5c1c2e9c",
   "metadata": {},
   "outputs": [
    {
     "data": {
      "text/plain": [
       "{'a',\n",
       " 'about',\n",
       " 'animals',\n",
       " 'are',\n",
       " 'canine',\n",
       " 'dogs',\n",
       " 'furry',\n",
       " 'is',\n",
       " 'our',\n",
       " 'pets',\n",
       " 'story',\n",
       " 'this'}"
      ]
     },
     "execution_count": 14,
     "metadata": {},
     "output_type": "execute_result"
    }
   ],
   "source": [
    "uni_words_one"
   ]
  },
  {
   "cell_type": "code",
   "execution_count": 15,
   "id": "b0282c7b",
   "metadata": {},
   "outputs": [],
   "source": [
    "with open('Two.txt')as mytext:\n",
    "    words_two = mytext.read().lower().split()\n",
    "    uni_words_two = set(words_two)"
   ]
  },
  {
   "cell_type": "code",
   "execution_count": 16,
   "id": "7e60bf0c",
   "metadata": {},
   "outputs": [
    {
     "data": {
      "text/plain": [
       "{'a',\n",
       " 'about',\n",
       " 'catching',\n",
       " 'fun',\n",
       " 'is',\n",
       " 'popular',\n",
       " 'sport',\n",
       " 'story',\n",
       " 'surfing',\n",
       " 'this',\n",
       " 'water',\n",
       " 'waves'}"
      ]
     },
     "execution_count": 16,
     "metadata": {},
     "output_type": "execute_result"
    }
   ],
   "source": [
    "uni_words_two"
   ]
  },
  {
   "cell_type": "code",
   "execution_count": 17,
   "id": "c2be2ccd",
   "metadata": {},
   "outputs": [],
   "source": [
    "all_uni_words = set()\n",
    "all_uni_words.update(uni_words_one)"
   ]
  },
  {
   "cell_type": "code",
   "execution_count": 18,
   "id": "9272555e",
   "metadata": {},
   "outputs": [],
   "source": [
    "all_uni_words.update(uni_words_two)"
   ]
  },
  {
   "cell_type": "code",
   "execution_count": 19,
   "id": "e9d0bb57",
   "metadata": {},
   "outputs": [
    {
     "data": {
      "text/plain": [
       "{'a',\n",
       " 'about',\n",
       " 'animals',\n",
       " 'are',\n",
       " 'canine',\n",
       " 'catching',\n",
       " 'dogs',\n",
       " 'fun',\n",
       " 'furry',\n",
       " 'is',\n",
       " 'our',\n",
       " 'pets',\n",
       " 'popular',\n",
       " 'sport',\n",
       " 'story',\n",
       " 'surfing',\n",
       " 'this',\n",
       " 'water',\n",
       " 'waves'}"
      ]
     },
     "execution_count": 19,
     "metadata": {},
     "output_type": "execute_result"
    }
   ],
   "source": [
    "all_uni_words"
   ]
  },
  {
   "cell_type": "code",
   "execution_count": 22,
   "id": "daec4571",
   "metadata": {},
   "outputs": [],
   "source": [
    "full_vocab = dict()\n",
    "i = 0\n",
    "\n",
    "for word in all_uni_words:\n",
    "    full_vocab[word] = i\n",
    "    i = i + 1"
   ]
  },
  {
   "cell_type": "code",
   "execution_count": 23,
   "id": "98c52ed5",
   "metadata": {},
   "outputs": [
    {
     "data": {
      "text/plain": [
       "{'catching': 0,\n",
       " 'sport': 1,\n",
       " 'story': 2,\n",
       " 'is': 3,\n",
       " 'our': 4,\n",
       " 'furry': 5,\n",
       " 'about': 6,\n",
       " 'surfing': 7,\n",
       " 'pets': 8,\n",
       " 'are': 9,\n",
       " 'canine': 10,\n",
       " 'this': 11,\n",
       " 'animals': 12,\n",
       " 'water': 13,\n",
       " 'waves': 14,\n",
       " 'a': 15,\n",
       " 'popular': 16,\n",
       " 'dogs': 17,\n",
       " 'fun': 18}"
      ]
     },
     "execution_count": 23,
     "metadata": {},
     "output_type": "execute_result"
    }
   ],
   "source": [
    "full_vocab"
   ]
  },
  {
   "cell_type": "code",
   "execution_count": 24,
   "id": "7272bcf6",
   "metadata": {},
   "outputs": [],
   "source": [
    "one_freq = [0]*len(full_vocab)\n",
    "two_freq = [0]*len(full_vocab)\n",
    "all_words = ['']*len(full_vocab)"
   ]
  },
  {
   "cell_type": "code",
   "execution_count": 28,
   "id": "006d8a62",
   "metadata": {},
   "outputs": [
    {
     "data": {
      "text/plain": [
       "[0, 0, 0, 0, 0, 0, 0, 0, 0, 0, 0, 0, 0, 0, 0, 0, 0, 0, 0]"
      ]
     },
     "execution_count": 28,
     "metadata": {},
     "output_type": "execute_result"
    }
   ],
   "source": [
    "one_freq"
   ]
  },
  {
   "cell_type": "code",
   "execution_count": 29,
   "id": "656a2222",
   "metadata": {},
   "outputs": [],
   "source": [
    "with open('One.txt')as f:\n",
    "    one_text = f.read().lower().split()"
   ]
  },
  {
   "cell_type": "code",
   "execution_count": 30,
   "id": "5745e833",
   "metadata": {},
   "outputs": [],
   "source": [
    "for word in one_text:\n",
    "    word_ind = full_vocab[word]\n",
    "    one_freq[word_ind] += 1"
   ]
  },
  {
   "cell_type": "code",
   "execution_count": 31,
   "id": "0614b8c1",
   "metadata": {},
   "outputs": [
    {
     "data": {
      "text/plain": [
       "[0, 0, 1, 1, 1, 1, 1, 0, 1, 1, 1, 1, 1, 0, 0, 1, 0, 2, 0]"
      ]
     },
     "execution_count": 31,
     "metadata": {},
     "output_type": "execute_result"
    }
   ],
   "source": [
    "one_freq"
   ]
  },
  {
   "cell_type": "code",
   "execution_count": 32,
   "id": "a907be1b",
   "metadata": {},
   "outputs": [],
   "source": [
    "with open('Two.txt')as f:\n",
    "    two_text = f.read().lower().split()"
   ]
  },
  {
   "cell_type": "code",
   "execution_count": 33,
   "id": "f2e763cd",
   "metadata": {},
   "outputs": [],
   "source": [
    "for word in two_text:\n",
    "    word_ind = full_vocab[word]\n",
    "    two_freq[word_ind] += 1"
   ]
  },
  {
   "cell_type": "code",
   "execution_count": 35,
   "id": "b4405d64",
   "metadata": {},
   "outputs": [
    {
     "data": {
      "text/plain": [
       "[1, 1, 1, 3, 0, 0, 1, 2, 0, 0, 0, 1, 0, 1, 1, 1, 1, 0, 1]"
      ]
     },
     "execution_count": 35,
     "metadata": {},
     "output_type": "execute_result"
    }
   ],
   "source": [
    "two_freq"
   ]
  },
  {
   "cell_type": "code",
   "execution_count": 36,
   "id": "9d97d0a7",
   "metadata": {},
   "outputs": [
    {
     "data": {
      "text/plain": [
       "['', '', '', '', '', '', '', '', '', '', '', '', '', '', '', '', '', '', '']"
      ]
     },
     "execution_count": 36,
     "metadata": {},
     "output_type": "execute_result"
    }
   ],
   "source": [
    "all_words"
   ]
  },
  {
   "cell_type": "code",
   "execution_count": 37,
   "id": "c7739007",
   "metadata": {},
   "outputs": [],
   "source": [
    "for word in full_vocab:\n",
    "    word_ind = full_vocab[word]\n",
    "    all_words[word_ind] = word"
   ]
  },
  {
   "cell_type": "code",
   "execution_count": 38,
   "id": "ab827ab3",
   "metadata": {},
   "outputs": [
    {
     "data": {
      "text/plain": [
       "['catching',\n",
       " 'sport',\n",
       " 'story',\n",
       " 'is',\n",
       " 'our',\n",
       " 'furry',\n",
       " 'about',\n",
       " 'surfing',\n",
       " 'pets',\n",
       " 'are',\n",
       " 'canine',\n",
       " 'this',\n",
       " 'animals',\n",
       " 'water',\n",
       " 'waves',\n",
       " 'a',\n",
       " 'popular',\n",
       " 'dogs',\n",
       " 'fun']"
      ]
     },
     "execution_count": 38,
     "metadata": {},
     "output_type": "execute_result"
    }
   ],
   "source": [
    "all_words"
   ]
  },
  {
   "cell_type": "code",
   "execution_count": 39,
   "id": "2167400c",
   "metadata": {},
   "outputs": [],
   "source": [
    "import pandas as pd\n",
    "bow = pd.DataFrame(data=[one_freq,two_freq], columns=all_words)"
   ]
  },
  {
   "cell_type": "code",
   "execution_count": 40,
   "id": "35c3301c",
   "metadata": {},
   "outputs": [
    {
     "data": {
      "text/html": [
       "<div>\n",
       "<style scoped>\n",
       "    .dataframe tbody tr th:only-of-type {\n",
       "        vertical-align: middle;\n",
       "    }\n",
       "\n",
       "    .dataframe tbody tr th {\n",
       "        vertical-align: top;\n",
       "    }\n",
       "\n",
       "    .dataframe thead th {\n",
       "        text-align: right;\n",
       "    }\n",
       "</style>\n",
       "<table border=\"1\" class=\"dataframe\">\n",
       "  <thead>\n",
       "    <tr style=\"text-align: right;\">\n",
       "      <th></th>\n",
       "      <th>catching</th>\n",
       "      <th>sport</th>\n",
       "      <th>story</th>\n",
       "      <th>is</th>\n",
       "      <th>our</th>\n",
       "      <th>furry</th>\n",
       "      <th>about</th>\n",
       "      <th>surfing</th>\n",
       "      <th>pets</th>\n",
       "      <th>are</th>\n",
       "      <th>canine</th>\n",
       "      <th>this</th>\n",
       "      <th>animals</th>\n",
       "      <th>water</th>\n",
       "      <th>waves</th>\n",
       "      <th>a</th>\n",
       "      <th>popular</th>\n",
       "      <th>dogs</th>\n",
       "      <th>fun</th>\n",
       "    </tr>\n",
       "  </thead>\n",
       "  <tbody>\n",
       "    <tr>\n",
       "      <th>0</th>\n",
       "      <td>0</td>\n",
       "      <td>0</td>\n",
       "      <td>1</td>\n",
       "      <td>1</td>\n",
       "      <td>1</td>\n",
       "      <td>1</td>\n",
       "      <td>1</td>\n",
       "      <td>0</td>\n",
       "      <td>1</td>\n",
       "      <td>1</td>\n",
       "      <td>1</td>\n",
       "      <td>1</td>\n",
       "      <td>1</td>\n",
       "      <td>0</td>\n",
       "      <td>0</td>\n",
       "      <td>1</td>\n",
       "      <td>0</td>\n",
       "      <td>2</td>\n",
       "      <td>0</td>\n",
       "    </tr>\n",
       "    <tr>\n",
       "      <th>1</th>\n",
       "      <td>1</td>\n",
       "      <td>1</td>\n",
       "      <td>1</td>\n",
       "      <td>3</td>\n",
       "      <td>0</td>\n",
       "      <td>0</td>\n",
       "      <td>1</td>\n",
       "      <td>2</td>\n",
       "      <td>0</td>\n",
       "      <td>0</td>\n",
       "      <td>0</td>\n",
       "      <td>1</td>\n",
       "      <td>0</td>\n",
       "      <td>1</td>\n",
       "      <td>1</td>\n",
       "      <td>1</td>\n",
       "      <td>1</td>\n",
       "      <td>0</td>\n",
       "      <td>1</td>\n",
       "    </tr>\n",
       "  </tbody>\n",
       "</table>\n",
       "</div>"
      ],
      "text/plain": [
       "   catching  sport  story  is  our  furry  about  surfing  pets  are  canine  \\\n",
       "0         0      0      1   1    1      1      1        0     1    1       1   \n",
       "1         1      1      1   3    0      0      1        2     0    0       0   \n",
       "\n",
       "   this  animals  water  waves  a  popular  dogs  fun  \n",
       "0     1        1      0      0  1        0     2    0  \n",
       "1     1        0      1      1  1        1     0    1  "
      ]
     },
     "execution_count": 40,
     "metadata": {},
     "output_type": "execute_result"
    }
   ],
   "source": [
    "bow"
   ]
  },
  {
   "cell_type": "code",
   "execution_count": 41,
   "id": "d6ff712c",
   "metadata": {},
   "outputs": [],
   "source": [
    "text = ['This is a line',\n",
    "       'This is another line',\n",
    "       'Completely different line']"
   ]
  },
  {
   "cell_type": "code",
   "execution_count": 42,
   "id": "e818dbe1",
   "metadata": {},
   "outputs": [],
   "source": [
    "from sklearn.feature_extraction.text import CountVectorizer"
   ]
  },
  {
   "cell_type": "code",
   "execution_count": 43,
   "id": "44416387",
   "metadata": {},
   "outputs": [],
   "source": [
    "cv = CountVectorizer()"
   ]
  },
  {
   "cell_type": "code",
   "execution_count": 44,
   "id": "72b19034",
   "metadata": {},
   "outputs": [
    {
     "data": {
      "text/plain": [
       "<3x6 sparse matrix of type '<class 'numpy.int64'>'\n",
       "\twith 10 stored elements in Compressed Sparse Row format>"
      ]
     },
     "execution_count": 44,
     "metadata": {},
     "output_type": "execute_result"
    }
   ],
   "source": [
    "sparse_matrix = cv.fit_transform(text)"
   ]
  },
  {
   "cell_type": "code",
   "execution_count": null,
   "id": "f31d3021",
   "metadata": {},
   "outputs": [],
   "source": []
  }
 ],
 "metadata": {
  "kernelspec": {
   "display_name": "Python 3 (ipykernel)",
   "language": "python",
   "name": "python3"
  },
  "language_info": {
   "codemirror_mode": {
    "name": "ipython",
    "version": 3
   },
   "file_extension": ".py",
   "mimetype": "text/x-python",
   "name": "python",
   "nbconvert_exporter": "python",
   "pygments_lexer": "ipython3",
   "version": "3.8.10"
  }
 },
 "nbformat": 4,
 "nbformat_minor": 5
}
